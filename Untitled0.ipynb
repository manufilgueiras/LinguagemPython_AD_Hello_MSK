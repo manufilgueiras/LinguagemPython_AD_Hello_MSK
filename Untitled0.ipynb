{
  "nbformat": 4,
  "nbformat_minor": 0,
  "metadata": {
    "colab": {
      "provenance": [],
      "authorship_tag": "ABX9TyP59ZILUxrr16vuhtEr5z8x",
      "include_colab_link": true
    },
    "kernelspec": {
      "name": "python3",
      "display_name": "Python 3"
    },
    "language_info": {
      "name": "python"
    }
  },
  "cells": [
    {
      "cell_type": "markdown",
      "metadata": {
        "id": "view-in-github",
        "colab_type": "text"
      },
      "source": [
        "<a href=\"https://colab.research.google.com/github/manufilgueiras/LinguagemPython_AD_Hello_MSK/blob/main/Untitled0.ipynb\" target=\"_parent\"><img src=\"https://colab.research.google.com/assets/colab-badge.svg\" alt=\"Open In Colab\"/></a>"
      ]
    },
    {
      "cell_type": "code",
      "execution_count": 4,
      "metadata": {
        "colab": {
          "base_uri": "https://localhost:8080/"
        },
        "id": "qpAz1-pAvtOl",
        "outputId": "9546c5de-7834-4b20-eb89-789c817207ea"
      },
      "outputs": [
        {
          "output_type": "stream",
          "name": "stdout",
          "text": [
            "Olá mundo\n",
            "Digite um numero:12\n",
            "O quadrado de 12.0 eh 1728.0\n"
          ]
        }
      ],
      "source": [
        "print(\"Olá mundo\")\n",
        "n = float(input(\"Digite um numero:\"))\n",
        "q = n*n\n",
        "q = n ** 2\n",
        "print(\"O quadrado de\",n,\"eh\",q)\n",
        ""
      ]
    },
    {
      "cell_type": "code",
      "source": [
        "\n",
        "a = float(input(\"Digite o primeiro valor:\"))\n",
        "b = float (input('Digite o segundo valor:'))\n",
        "media = (a+b)/2\n",
        "print(\"A media dos valores digitados é\", media)"
      ],
      "metadata": {
        "colab": {
          "base_uri": "https://localhost:8080/"
        },
        "id": "-GxOWlc9x-bR",
        "outputId": "bf7a4cd1-6ba5-495c-f8ee-889f9b921af9"
      },
      "execution_count": 10,
      "outputs": [
        {
          "output_type": "stream",
          "name": "stdout",
          "text": [
            "Digite o primeiro valor:4\n",
            "Digite o segundo valor:8\n",
            "A media dos valores digitados é 6.0\n"
          ]
        }
      ]
    },
    {
      "cell_type": "code",
      "source": [
        "a = float(input(\"Digite o primeiro valor:\"))\n",
        "b = float(input(\"Digite o segundo valor:\"))\n",
        "c = float(input(\"Digite o terceiro valor:\"))\n",
        "media = (a+b+c)/3\n",
        "print(\"A media dos valores digitados é\", media)"
      ],
      "metadata": {
        "colab": {
          "base_uri": "https://localhost:8080/"
        },
        "id": "iMobvIHk0A8s",
        "outputId": "33a8cfd7-4bd6-48b7-b18c-3d5bb1051f45"
      },
      "execution_count": 11,
      "outputs": [
        {
          "output_type": "stream",
          "name": "stdout",
          "text": [
            "Digite o primeiro valor:1\n",
            "Digite o segundo valor:5\n",
            "Digite o terceiro valor:10\n",
            "A media dos valores digitados é 5.333333333333333\n"
          ]
        }
      ]
    },
    {
      "cell_type": "code",
      "source": [
        "peso = float(input(\"Digite o seu peso:\"))\n",
        "altura = float(input(\"Digite a sua altura:\"))\n",
        "IMC = peso/(altura**2)\n",
        "print (\"O valor final é\", IMC)"
      ],
      "metadata": {
        "colab": {
          "base_uri": "https://localhost:8080/"
        },
        "id": "TlJO7cvs1wqz",
        "outputId": "c2e4e7e4-3609-4329-c599-0c91bc7336f7"
      },
      "execution_count": 19,
      "outputs": [
        {
          "output_type": "stream",
          "name": "stdout",
          "text": [
            "Digite o seu peso:59\n",
            "Digite a sua altura:1.66\n",
            "O valor final é 21.410944984758313\n"
          ]
        }
      ]
    },
    {
      "cell_type": "code",
      "source": [
        "s = float(input(\"Digite a distância percorrida pelo objeto, em km:\"))\n",
        "t = float(input(\"Digite o tempo transcorrido, em h:\"))\n",
        "if s>0 and t>0:\n",
        "  v = s/t\n",
        "  print(\"A velocidade do objeto é\", v ,\"km/h\")\n",
        "else:\n",
        "    print(\"Erro, o valor de tempo deve ser positivo!\")\n",
        "    print(\"Tente novamente.\")"
      ],
      "metadata": {
        "colab": {
          "base_uri": "https://localhost:8080/"
        },
        "id": "lTuTPDUn5BzO",
        "outputId": "4464b54c-e383-4795-a9ff-0b28c6f410e3"
      },
      "execution_count": 27,
      "outputs": [
        {
          "output_type": "stream",
          "name": "stdout",
          "text": [
            "Digite a distância percorrida pelo objeto, em km:90\n",
            "Digite o tempo transcorrido, em h:3\n",
            "A velocidade do objeto é 30.0 km/h\n"
          ]
        }
      ]
    },
    {
      "cell_type": "code",
      "source": [
        "n1 = float(input(\"Digite um numero:\"))\n",
        "n2 = float(input(\"Digite outro numero:\"))\n",
        "soma = n1+n2\n",
        "if (soma >=0):\n",
        "  print(\"A soma é\", soma)\n",
        "else:\n",
        "  print(\"A soma é menor que zero...\")"
      ],
      "metadata": {
        "colab": {
          "base_uri": "https://localhost:8080/"
        },
        "id": "vvwiu5ip7ku8",
        "outputId": "fbf8072b-6cd8-42ad-bae8-506e63f1b31c"
      },
      "execution_count": 35,
      "outputs": [
        {
          "output_type": "stream",
          "name": "stdout",
          "text": [
            "Digite um numero:-2\n",
            "Digite outro numero:-3\n",
            "A soma é menor que zero...\n"
          ]
        }
      ]
    },
    {
      "cell_type": "code",
      "source": [
        "x = float(input(\"Digite o valor de X:\"))\n",
        "if x >= 0 and x <= 10:\n",
        "  print(\"O valor digitado se encontra entre 0 e 10 \")\n",
        "elif x > 10 and x <=20:\n",
        "  print(\"O valor digitado se encontra entre 10 e 20\")\n",
        "elif x > 20 and x <= 30:\n",
        "  print(\"O valor digitado se encontra entre 20 e 30\")\n",
        "elif x > 30 and x <= 40:\n",
        "  print(\"O valor digitado se encontra entre 30 e 40 \")\n",
        "elif x > 40 and x <= 50:\n",
        "  print(\"O valor digitado se encontra entre 40 e 50\")\n",
        "elif x > 50 and x <= 60:\n",
        "  print(\"O valor digitado se encontra entre 50 e 60\")\n",
        "elif x > 60 and x <= 70:\n",
        "  print(\"O valor digitado se encontra entre 60 e 70\")\n",
        "elif x > 70 and x <= 80:\n",
        "  print(\"O valor digitado se encontra entre 70 e 80\")\n",
        "elif x > 80 and x <= 90:\n",
        "  print(\"O valor digitado se encontra entre 80 e 90\")\n",
        "elif x > 90 and x <= 100:\n",
        "  print(\"O valor digitado se encontra entre 90 e 100\")\n",
        "else:\n",
        "  print(\"O valor de x é negativo ou maior que 100\")"
      ],
      "metadata": {
        "colab": {
          "base_uri": "https://localhost:8080/"
        },
        "id": "_Ax_wNNe99Hj",
        "outputId": "a6486ba7-053b-4ccb-c5c5-9cbf2cef0d6a"
      },
      "execution_count": 50,
      "outputs": [
        {
          "output_type": "stream",
          "name": "stdout",
          "text": [
            "Digite o valor de X:-19\n",
            "O valor de x é negativo ou maior que 100\n"
          ]
        }
      ]
    },
    {
      "cell_type": "code",
      "source": [],
      "metadata": {
        "id": "q32oxXA2Jjwg"
      },
      "execution_count": null,
      "outputs": []
    }
  ]
}